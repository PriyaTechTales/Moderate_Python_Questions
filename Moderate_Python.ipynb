{
  "nbformat": 4,
  "nbformat_minor": 0,
  "metadata": {
    "colab": {
      "provenance": []
    },
    "kernelspec": {
      "name": "python3",
      "display_name": "Python 3"
    },
    "language_info": {
      "name": "python"
    }
  },
  "cells": [
    {
      "cell_type": "markdown",
      "source": [
        "#Program to generate a random number."
      ],
      "metadata": {
        "id": "9JW-pJLY4HNY"
      }
    },
    {
      "cell_type": "code",
      "execution_count": 1,
      "metadata": {
        "colab": {
          "base_uri": "https://localhost:8080/"
        },
        "id": "EQeGAzmMyFiB",
        "outputId": "a4fb5fab-6a3b-405a-ff4f-211832ffde29"
      },
      "outputs": [
        {
          "output_type": "stream",
          "name": "stdout",
          "text": [
            "88\n"
          ]
        }
      ],
      "source": [
        "import random\n",
        "number = random.randint(1,100)\n",
        "print(number)"
      ]
    },
    {
      "cell_type": "markdown",
      "source": [
        "#Guess the number"
      ],
      "metadata": {
        "id": "AjEqxAc9416J"
      }
    },
    {
      "cell_type": "code",
      "source": [
        "import random\n",
        "\n",
        "target = random.randint(1, 100)\n",
        "\n",
        "while True:\n",
        "    userchoice = input(\"Guess the number (or Quit with 'Q'): \")\n",
        "\n",
        "    if userchoice.upper() == \"Q\":\n",
        "        break\n",
        "\n",
        "    if not userchoice.isdigit():\n",
        "        print(\"Invalid input! Please enter a number or 'Q' to quit.\")\n",
        "        continue\n",
        "\n",
        "    userchoice = int(userchoice)\n",
        "\n",
        "    if userchoice == target:\n",
        "        print(\"Success!!! You correctly guessed the number.\")\n",
        "        break\n",
        "    elif userchoice < target:\n",
        "        print(\"Entered number is smaller than the target number.\")\n",
        "    else:\n",
        "        print(\"Entered number is greater than the target number.\")\n",
        "\n",
        "print(\"----Game Over----\")\n"
      ],
      "metadata": {
        "colab": {
          "base_uri": "https://localhost:8080/"
        },
        "id": "IGFp5yN646Rh",
        "outputId": "29a5f439-bbab-4a51-bcfd-b0651d77666a"
      },
      "execution_count": 3,
      "outputs": [
        {
          "output_type": "stream",
          "name": "stdout",
          "text": [
            "Guess the number (or Quit with 'Q'): 66\n",
            "Entered number is greater than the target number.\n",
            "Guess the number (or Quit with 'Q'): 44\n",
            "Entered number is greater than the target number.\n",
            "Guess the number (or Quit with 'Q'): 22\n",
            "Entered number is smaller than the target number.\n",
            "Guess the number (or Quit with 'Q'): 32\n",
            "Entered number is smaller than the target number.\n",
            "Guess the number (or Quit with 'Q'): 35\n",
            "Entered number is smaller than the target number.\n",
            "Guess the number (or Quit with 'Q'): 40\n",
            "Entered number is greater than the target number.\n",
            "Guess the number (or Quit with 'Q'): 37\n",
            "Entered number is smaller than the target number.\n",
            "Guess the number (or Quit with 'Q'): 38\n",
            "Success!!! You correctly guessed the number.\n",
            "----Game Over----\n"
          ]
        }
      ]
    },
    {
      "cell_type": "markdown",
      "source": [
        "#Generate random password"
      ],
      "metadata": {
        "id": "RTF58LtH6nX6"
      }
    },
    {
      "cell_type": "code",
      "source": [
        "import random\n",
        "import string\n",
        "\n",
        "password_len = 12\n",
        "charvalues = string.ascii_letters + string.digits + string.punctuation\n",
        "#print(charvalues)\n",
        "password = \"\"\n",
        "for i in range(password_len):\n",
        "  password += random.choice(charvalues)\n",
        "\n",
        "print(\"Random password is : \",password)"
      ],
      "metadata": {
        "colab": {
          "base_uri": "https://localhost:8080/"
        },
        "id": "_tg5qH0b6tAM",
        "outputId": "54949c82-b688-4fd2-e06f-c57421a42d78"
      },
      "execution_count": 4,
      "outputs": [
        {
          "output_type": "stream",
          "name": "stdout",
          "text": [
            "Random password is :  !US&XXxJx4`O\n"
          ]
        }
      ]
    },
    {
      "cell_type": "markdown",
      "source": [
        "#Program to display calender"
      ],
      "metadata": {
        "id": "o764crZq6wj_"
      }
    },
    {
      "cell_type": "code",
      "source": [
        "import calendar\n",
        "year = int(input(\"Enter the year: \"))\n",
        "month = int(input(\"Enter the month: \"))\n",
        "\n",
        "cal = calendar.month(year,month)\n",
        "print(cal)"
      ],
      "metadata": {
        "colab": {
          "base_uri": "https://localhost:8080/"
        },
        "id": "G3LeunVv64hw",
        "outputId": "5a4de3da-85b4-4b30-f73f-e7be0d775edb"
      },
      "execution_count": 7,
      "outputs": [
        {
          "output_type": "stream",
          "name": "stdout",
          "text": [
            "Enter the year: 2024\n",
            "Enter the month: 12\n",
            "   December 2024\n",
            "Mo Tu We Th Fr Sa Su\n",
            "                   1\n",
            " 2  3  4  5  6  7  8\n",
            " 9 10 11 12 13 14 15\n",
            "16 17 18 19 20 21 22\n",
            "23 24 25 26 27 28 29\n",
            "30 31\n",
            "\n"
          ]
        }
      ]
    },
    {
      "cell_type": "markdown",
      "source": [
        "#Program to find the sum of natural number"
      ],
      "metadata": {
        "id": "Kz4U9br77x6g"
      }
    },
    {
      "cell_type": "code",
      "source": [
        "num = int(input(\"Enter the number: \"))\n",
        "sum = 0\n",
        "for i in range(1,num+1):\n",
        "  sum = sum+i\n",
        "print(\"The sum of the natural number upto\",num,\"is\",sum)"
      ],
      "metadata": {
        "colab": {
          "base_uri": "https://localhost:8080/"
        },
        "id": "bmsn9jDT77hj",
        "outputId": "068a0ddc-7643-4562-d501-b1014b7ea994"
      },
      "execution_count": 8,
      "outputs": [
        {
          "output_type": "stream",
          "name": "stdout",
          "text": [
            "Enter the number: 55\n",
            "The sum of the natural number upto 55 is 1540\n"
          ]
        }
      ]
    },
    {
      "cell_type": "markdown",
      "source": [
        "#Find the ASCII value of the character."
      ],
      "metadata": {
        "id": "qpXLdIEn8nK4"
      }
    },
    {
      "cell_type": "code",
      "source": [
        "char = str(input(\"Enter the character: \"))\n",
        "print(\"The ASCII value of '\",char,\"'is\",ord(char))"
      ],
      "metadata": {
        "colab": {
          "base_uri": "https://localhost:8080/"
        },
        "id": "vuESQHdk8s72",
        "outputId": "1109c768-e93c-4950-c0e0-0c3532ffb6bb"
      },
      "execution_count": 11,
      "outputs": [
        {
          "output_type": "stream",
          "name": "stdout",
          "text": [
            "Enter the character: e\n",
            "The ASCII value of ' e 'is 101\n"
          ]
        }
      ]
    },
    {
      "cell_type": "markdown",
      "source": [
        "#Program to sort words in alphabetic order."
      ],
      "metadata": {
        "id": "Ehd1phWXL9aK"
      }
    },
    {
      "cell_type": "code",
      "source": [
        "my_str = input(\"Enter a string: \")\n",
        "words = [word.capitalize() for word in my_str.split()]\n",
        "words.sort()\n",
        "print(\"The sorted words are:\")\n",
        "for word in words:\n",
        "  print(word)\n"
      ],
      "metadata": {
        "colab": {
          "base_uri": "https://localhost:8080/"
        },
        "id": "Hla1AbkkMCwJ",
        "outputId": "afbab819-7cf6-4f23-eb96-7f4979994b46"
      },
      "execution_count": 13,
      "outputs": [
        {
          "output_type": "stream",
          "name": "stdout",
          "text": [
            "Enter a string: Priya Kajal Sejal Preeti Dhruv Vihaan\n",
            "The sorted words are:\n",
            "Dhruv\n",
            "Kajal\n",
            "Preeti\n",
            "Priya\n",
            "Sejal\n",
            "Vihaan\n"
          ]
        }
      ]
    },
    {
      "cell_type": "markdown",
      "source": [
        "#Program to remove punctuation from a string\n"
      ],
      "metadata": {
        "id": "ycxMv75dM-v4"
      }
    },
    {
      "cell_type": "code",
      "source": [
        "punctuations = '''!()-[]{};:'\"/\\,<>.?@#$%^&*_~'''\n",
        "my_str = input(\"Enter the string: \")\n",
        "no_punct = \"\"\n",
        "for char in my_str:\n",
        "  if char not in punctuations:\n",
        "    no_punct = no_punct + char\n",
        "print(no_punct)"
      ],
      "metadata": {
        "colab": {
          "base_uri": "https://localhost:8080/"
        },
        "id": "ZO_82cdaNDxT",
        "outputId": "8fae0661-0317-4c99-a129-3e89a70cf9d3"
      },
      "execution_count": 14,
      "outputs": [
        {
          "output_type": "stream",
          "name": "stdout",
          "text": [
            "Enter the string: hello!! Priya\n",
            "hello Priya\n"
          ]
        }
      ]
    }
  ]
}